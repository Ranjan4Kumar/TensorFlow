{
 "cells": [
  {
   "cell_type": "markdown",
   "id": "bf010558-7354-4f8d-b33a-b5d2ff761628",
   "metadata": {},
   "source": [
    "# Dataset import and exploration\n",
    "- https://www.kaggle.com/shelvigarg/wine-quality-dataset\n",
    "- Refer to https://github.com/better-data-science/TensorFlow/blob/main/003_TensorFlow_Classification.ipynb for detailed preparation instructions"
   ]
  },
  {
   "cell_type": "code",
   "execution_count": 1,
   "id": "ca51a1b1-bba1-4832-b177-e0be1f3aee9e",
   "metadata": {},
   "outputs": [
    {
     "data": {
      "text/html": [
       "<div>\n",
       "<style scoped>\n",
       "    .dataframe tbody tr th:only-of-type {\n",
       "        vertical-align: middle;\n",
       "    }\n",
       "\n",
       "    .dataframe tbody tr th {\n",
       "        vertical-align: top;\n",
       "    }\n",
       "\n",
       "    .dataframe thead th {\n",
       "        text-align: right;\n",
       "    }\n",
       "</style>\n",
       "<table border=\"1\" class=\"dataframe\">\n",
       "  <thead>\n",
       "    <tr style=\"text-align: right;\">\n",
       "      <th></th>\n",
       "      <th>type</th>\n",
       "      <th>fixed acidity</th>\n",
       "      <th>volatile acidity</th>\n",
       "      <th>citric acid</th>\n",
       "      <th>residual sugar</th>\n",
       "      <th>chlorides</th>\n",
       "      <th>free sulfur dioxide</th>\n",
       "      <th>total sulfur dioxide</th>\n",
       "      <th>density</th>\n",
       "      <th>pH</th>\n",
       "      <th>sulphates</th>\n",
       "      <th>alcohol</th>\n",
       "      <th>quality</th>\n",
       "    </tr>\n",
       "  </thead>\n",
       "  <tbody>\n",
       "    <tr>\n",
       "      <th>673</th>\n",
       "      <td>white</td>\n",
       "      <td>6.7</td>\n",
       "      <td>0.31</td>\n",
       "      <td>0.30</td>\n",
       "      <td>2.1</td>\n",
       "      <td>0.038</td>\n",
       "      <td>18.0</td>\n",
       "      <td>130.0</td>\n",
       "      <td>0.99280</td>\n",
       "      <td>3.36</td>\n",
       "      <td>0.63</td>\n",
       "      <td>10.6</td>\n",
       "      <td>6</td>\n",
       "    </tr>\n",
       "    <tr>\n",
       "      <th>2652</th>\n",
       "      <td>white</td>\n",
       "      <td>7.3</td>\n",
       "      <td>0.22</td>\n",
       "      <td>0.31</td>\n",
       "      <td>2.3</td>\n",
       "      <td>0.018</td>\n",
       "      <td>45.0</td>\n",
       "      <td>80.0</td>\n",
       "      <td>0.98936</td>\n",
       "      <td>3.06</td>\n",
       "      <td>0.34</td>\n",
       "      <td>12.9</td>\n",
       "      <td>7</td>\n",
       "    </tr>\n",
       "    <tr>\n",
       "      <th>5574</th>\n",
       "      <td>red</td>\n",
       "      <td>10.8</td>\n",
       "      <td>0.40</td>\n",
       "      <td>0.41</td>\n",
       "      <td>2.2</td>\n",
       "      <td>0.084</td>\n",
       "      <td>7.0</td>\n",
       "      <td>17.0</td>\n",
       "      <td>0.99840</td>\n",
       "      <td>3.08</td>\n",
       "      <td>0.67</td>\n",
       "      <td>9.3</td>\n",
       "      <td>6</td>\n",
       "    </tr>\n",
       "    <tr>\n",
       "      <th>6416</th>\n",
       "      <td>red</td>\n",
       "      <td>7.4</td>\n",
       "      <td>0.47</td>\n",
       "      <td>0.46</td>\n",
       "      <td>2.2</td>\n",
       "      <td>0.114</td>\n",
       "      <td>7.0</td>\n",
       "      <td>20.0</td>\n",
       "      <td>0.99647</td>\n",
       "      <td>3.32</td>\n",
       "      <td>0.63</td>\n",
       "      <td>10.5</td>\n",
       "      <td>5</td>\n",
       "    </tr>\n",
       "    <tr>\n",
       "      <th>3837</th>\n",
       "      <td>white</td>\n",
       "      <td>8.0</td>\n",
       "      <td>0.27</td>\n",
       "      <td>0.33</td>\n",
       "      <td>1.2</td>\n",
       "      <td>0.050</td>\n",
       "      <td>41.0</td>\n",
       "      <td>103.0</td>\n",
       "      <td>0.99002</td>\n",
       "      <td>3.00</td>\n",
       "      <td>0.45</td>\n",
       "      <td>12.4</td>\n",
       "      <td>6</td>\n",
       "    </tr>\n",
       "  </tbody>\n",
       "</table>\n",
       "</div>"
      ],
      "text/plain": [
       "       type  fixed acidity  volatile acidity  citric acid  residual sugar  \\\n",
       "673   white            6.7              0.31         0.30             2.1   \n",
       "2652  white            7.3              0.22         0.31             2.3   \n",
       "5574    red           10.8              0.40         0.41             2.2   \n",
       "6416    red            7.4              0.47         0.46             2.2   \n",
       "3837  white            8.0              0.27         0.33             1.2   \n",
       "\n",
       "      chlorides  free sulfur dioxide  total sulfur dioxide  density    pH  \\\n",
       "673       0.038                 18.0                 130.0  0.99280  3.36   \n",
       "2652      0.018                 45.0                  80.0  0.98936  3.06   \n",
       "5574      0.084                  7.0                  17.0  0.99840  3.08   \n",
       "6416      0.114                  7.0                  20.0  0.99647  3.32   \n",
       "3837      0.050                 41.0                 103.0  0.99002  3.00   \n",
       "\n",
       "      sulphates  alcohol  quality  \n",
       "673        0.63     10.6        6  \n",
       "2652       0.34     12.9        7  \n",
       "5574       0.67      9.3        6  \n",
       "6416       0.63     10.5        5  \n",
       "3837       0.45     12.4        6  "
      ]
     },
     "execution_count": 1,
     "metadata": {},
     "output_type": "execute_result"
    }
   ],
   "source": [
    "import os\n",
    "import numpy as np\n",
    "import pandas as pd\n",
    "import warnings\n",
    "os.environ['TF_CPP_MIN_LOG_LEVEL'] = '2' \n",
    "warnings.filterwarnings('ignore')\n",
    "\n",
    "df = pd.read_csv('data/winequalityN.csv')\n",
    "df.sample(5)"
   ]
  },
  {
   "cell_type": "code",
   "execution_count": 2,
   "id": "5f8ccfbf-d0f9-4128-ab3b-d6ab1489f205",
   "metadata": {},
   "outputs": [],
   "source": [
    "from sklearn.model_selection import train_test_split\n",
    "from sklearn.preprocessing import StandardScaler\n",
    "\n",
    "\n",
    "# Prepare the data\n",
    "df = df.dropna()\n",
    "df['is_white_wine'] = [1 if typ == 'white' else 0 for typ in df['type']]\n",
    "df['is_good_wine'] = [1 if quality >= 6 else 0 for quality in df['quality']]\n",
    "df.drop(['type', 'quality'], axis=1, inplace=True)\n",
    "\n",
    "# Train/test split\n",
    "X = df.drop('is_good_wine', axis=1)\n",
    "y = df['is_good_wine']\n",
    "X_train, X_test, y_train, y_test = train_test_split(\n",
    "    X, y, \n",
    "    test_size=0.2, random_state=42\n",
    ")\n",
    "\n",
    "# Scaling\n",
    "scaler = StandardScaler()\n",
    "X_train_scaled = scaler.fit_transform(X_train)\n",
    "X_test_scaled = scaler.transform(X_test)"
   ]
  },
  {
   "cell_type": "markdown",
   "id": "d6e70cb7-d3e7-49b0-aeb7-aa2a3ca19a41",
   "metadata": {},
   "source": [
    "<br>\n",
    "\n",
    "# Modelling"
   ]
  },
  {
   "cell_type": "code",
   "execution_count": 3,
   "id": "8e42d1f6-1c30-4334-8397-b8772f958979",
   "metadata": {},
   "outputs": [
    {
     "name": "stdout",
     "output_type": "stream",
     "text": [
      "Init Plugin\n",
      "Init Graph Optimizer\n",
      "Init Kernel\n"
     ]
    }
   ],
   "source": [
    "import tensorflow as tf\n",
    "tf.random.set_seed(42)"
   ]
  },
  {
   "cell_type": "markdown",
   "id": "83bed9be-de94-4a6f-bb1d-5fd571f697a4",
   "metadata": {},
   "source": [
    "<br>\n",
    "\n",
    "## Callbacks list\n",
    "- I like to declare it beforehand\n",
    "\n",
    "### `ModelCheckpoint`\n",
    "- It will save the model locally on the current epoch if it beats the performance on the previous one\n",
    "- The configuration below saves it to a `hdf5` file in the following format:\n",
    "    - `<dir>/model-<epoch>-<accuracy>.hdf5`\n",
    "- Model is saved only if the validation accuracy is higher than on the previous epoch"
   ]
  },
  {
   "cell_type": "code",
   "execution_count": 4,
   "id": "ae4dc04b-530f-4320-831e-d31b311f69dd",
   "metadata": {},
   "outputs": [],
   "source": [
    "cb_checkpoint = tf.keras.callbacks.ModelCheckpoint(\n",
    "    filepath='checkpoints/model-{epoch:02d}-{val_accuracy:.2f}.hdf5',\n",
    "    monitor='val_accuracy',\n",
    "    mode='max',\n",
    "    save_best_only=True,\n",
    "    verbose=1\n",
    ")"
   ]
  },
  {
   "cell_type": "markdown",
   "id": "7509f244-b817-44ba-9221-44606ac21d4f",
   "metadata": {},
   "source": [
    "### `ReduceLROnPlateau`\n",
    "- Basically if a metric (validation loss) doesn't decrease for a number of epochs (10), reduce the learning rate\n",
    "- New learning rate = old learning rate * factor (0.1)\n",
    "    - nlr = 0.01 * 0.1 = 0.001\n",
    "- You can also set the minimum learning rate below the model won't go"
   ]
  },
  {
   "cell_type": "code",
   "execution_count": 5,
   "id": "be8e7d24-ea3a-48a1-8deb-8373b1978213",
   "metadata": {},
   "outputs": [],
   "source": [
    "cb_reducelr = tf.keras.callbacks.ReduceLROnPlateau(\n",
    "    monitor='val_loss',\n",
    "    mode='min',\n",
    "    factor=0.1,\n",
    "    patience=10,\n",
    "    verbose=1,\n",
    "    min_lr=0.00001\n",
    ")"
   ]
  },
  {
   "cell_type": "markdown",
   "id": "ffe6748b-df60-4a4e-b3cc-9e51f0ed66b7",
   "metadata": {},
   "source": [
    "### `EarlyStopping`\n",
    "- If a metric (validation accuracy) doesn't increase by some minimum delta (0.001) for a given number of epochs (10) - kill the training process\n"
   ]
  },
  {
   "cell_type": "code",
   "execution_count": 6,
   "id": "c438c4ed-34e7-4ba0-8564-20601d46f80f",
   "metadata": {},
   "outputs": [],
   "source": [
    "cb_earlystop = tf.keras.callbacks.EarlyStopping(\n",
    "    monitor='val_accuracy',\n",
    "    mode='max',\n",
    "    min_delta=0.001,\n",
    "    patience=10,\n",
    "    verbose=1\n",
    ")"
   ]
  },
  {
   "cell_type": "markdown",
   "id": "9b94763b-b620-4aac-9475-5925d87b87a5",
   "metadata": {},
   "source": [
    "### `CSVLogger`\n",
    "- Captures model training history and dumps it to a CSV file\n",
    "- Useful for analyzing the performance later"
   ]
  },
  {
   "cell_type": "code",
   "execution_count": 7,
   "id": "0a82de6e-fa77-4701-a18f-82e0bd403f6f",
   "metadata": {},
   "outputs": [],
   "source": [
    "cb_csvlogger = tf.keras.callbacks.CSVLogger(\n",
    "    filename='training_log.csv',\n",
    "    separator=',',\n",
    "    append=False\n",
    ")"
   ]
  },
  {
   "cell_type": "markdown",
   "id": "5aa112e1-97f3-4e81-a598-d7f45795d769",
   "metadata": {},
   "source": [
    "<br>\n",
    "\n",
    "- For simplicity's sake we'll treat test set as a validation set\n",
    "- In real deep learning projects you'll want to have 3 sets: training, validation, and test\n",
    "- We'll tell the model to train for 1000 epochs, but the `EarlyStopping` callback will kill it way before\n",
    "- Specify callbacks in the `fit()` function"
   ]
  },
  {
   "cell_type": "code",
   "execution_count": 8,
   "id": "3b611c9b-7da2-4b16-9161-272bf69abecf",
   "metadata": {},
   "outputs": [
    {
     "name": "stdout",
     "output_type": "stream",
     "text": [
      "Metal device set to: Apple M1\n",
      "Epoch 1/1000\n",
      "162/162 [==============================] - 1s 7ms/step - loss: 0.5375 - accuracy: 0.7306 - val_loss: 0.4913 - val_accuracy: 0.7649\n",
      "\n",
      "Epoch 00001: val_accuracy improved from -inf to 0.76489, saving model to checkpoints/model-01-0.76.hdf5\n",
      "Epoch 2/1000\n",
      "162/162 [==============================] - 1s 6ms/step - loss: 0.4982 - accuracy: 0.7580 - val_loss: 0.5027 - val_accuracy: 0.7401\n",
      "\n",
      "Epoch 00002: val_accuracy did not improve from 0.76489\n",
      "Epoch 3/1000\n",
      "162/162 [==============================] - 1s 6ms/step - loss: 0.4880 - accuracy: 0.7689 - val_loss: 0.4774 - val_accuracy: 0.7703\n",
      "\n",
      "Epoch 00003: val_accuracy improved from 0.76489 to 0.77030, saving model to checkpoints/model-03-0.77.hdf5\n",
      "Epoch 4/1000\n",
      "162/162 [==============================] - 1s 6ms/step - loss: 0.4739 - accuracy: 0.7749 - val_loss: 0.4809 - val_accuracy: 0.7564\n",
      "\n",
      "Epoch 00004: val_accuracy did not improve from 0.77030\n",
      "Epoch 5/1000\n",
      "162/162 [==============================] - 1s 6ms/step - loss: 0.4681 - accuracy: 0.7791 - val_loss: 0.4767 - val_accuracy: 0.7657\n",
      "\n",
      "Epoch 00005: val_accuracy did not improve from 0.77030\n",
      "Epoch 6/1000\n",
      "162/162 [==============================] - 1s 7ms/step - loss: 0.4595 - accuracy: 0.7824 - val_loss: 0.4660 - val_accuracy: 0.7688\n",
      "\n",
      "Epoch 00006: val_accuracy did not improve from 0.77030\n",
      "Epoch 7/1000\n",
      "162/162 [==============================] - 1s 7ms/step - loss: 0.4533 - accuracy: 0.7872 - val_loss: 0.4647 - val_accuracy: 0.7780\n",
      "\n",
      "Epoch 00007: val_accuracy improved from 0.77030 to 0.77804, saving model to checkpoints/model-07-0.78.hdf5\n",
      "Epoch 8/1000\n",
      "162/162 [==============================] - 1s 6ms/step - loss: 0.4464 - accuracy: 0.7894 - val_loss: 0.4621 - val_accuracy: 0.7804\n",
      "\n",
      "Epoch 00008: val_accuracy improved from 0.77804 to 0.78036, saving model to checkpoints/model-08-0.78.hdf5\n",
      "Epoch 9/1000\n",
      "162/162 [==============================] - 1s 6ms/step - loss: 0.4398 - accuracy: 0.7956 - val_loss: 0.4605 - val_accuracy: 0.7780\n",
      "\n",
      "Epoch 00009: val_accuracy did not improve from 0.78036\n",
      "Epoch 10/1000\n",
      "162/162 [==============================] - 1s 6ms/step - loss: 0.4359 - accuracy: 0.7986 - val_loss: 0.4728 - val_accuracy: 0.7773\n",
      "\n",
      "Epoch 00010: val_accuracy did not improve from 0.78036\n",
      "Epoch 11/1000\n",
      "162/162 [==============================] - 1s 7ms/step - loss: 0.4287 - accuracy: 0.8035 - val_loss: 0.4670 - val_accuracy: 0.7811\n",
      "\n",
      "Epoch 00011: val_accuracy improved from 0.78036 to 0.78113, saving model to checkpoints/model-11-0.78.hdf5\n",
      "Epoch 12/1000\n",
      "162/162 [==============================] - 1s 6ms/step - loss: 0.4218 - accuracy: 0.8095 - val_loss: 0.4602 - val_accuracy: 0.7842\n",
      "\n",
      "Epoch 00012: val_accuracy improved from 0.78113 to 0.78422, saving model to checkpoints/model-12-0.78.hdf5\n",
      "Epoch 13/1000\n",
      "162/162 [==============================] - 1s 6ms/step - loss: 0.4149 - accuracy: 0.8135 - val_loss: 0.4902 - val_accuracy: 0.7711\n",
      "\n",
      "Epoch 00013: val_accuracy did not improve from 0.78422\n",
      "Epoch 14/1000\n",
      "162/162 [==============================] - 1s 6ms/step - loss: 0.4150 - accuracy: 0.8064 - val_loss: 0.4626 - val_accuracy: 0.7796\n",
      "\n",
      "Epoch 00014: val_accuracy did not improve from 0.78422\n",
      "Epoch 15/1000\n",
      "162/162 [==============================] - 1s 7ms/step - loss: 0.4054 - accuracy: 0.8164 - val_loss: 0.4704 - val_accuracy: 0.7858\n",
      "\n",
      "Epoch 00015: val_accuracy improved from 0.78422 to 0.78577, saving model to checkpoints/model-15-0.79.hdf5\n",
      "Epoch 16/1000\n",
      "162/162 [==============================] - 1s 6ms/step - loss: 0.4026 - accuracy: 0.8188 - val_loss: 0.4716 - val_accuracy: 0.7734\n",
      "\n",
      "Epoch 00016: val_accuracy did not improve from 0.78577\n",
      "Epoch 17/1000\n",
      "162/162 [==============================] - 1s 7ms/step - loss: 0.3943 - accuracy: 0.8215 - val_loss: 0.4634 - val_accuracy: 0.7796\n",
      "\n",
      "Epoch 00017: val_accuracy did not improve from 0.78577\n",
      "Epoch 18/1000\n",
      "162/162 [==============================] - 1s 7ms/step - loss: 0.3902 - accuracy: 0.8203 - val_loss: 0.4661 - val_accuracy: 0.7881\n",
      "\n",
      "Epoch 00018: val_accuracy improved from 0.78577 to 0.78809, saving model to checkpoints/model-18-0.79.hdf5\n",
      "Epoch 19/1000\n",
      "162/162 [==============================] - 1s 6ms/step - loss: 0.3837 - accuracy: 0.8267 - val_loss: 0.4740 - val_accuracy: 0.7819\n",
      "\n",
      "Epoch 00019: val_accuracy did not improve from 0.78809\n",
      "Epoch 20/1000\n",
      "162/162 [==============================] - 1s 6ms/step - loss: 0.3793 - accuracy: 0.8273 - val_loss: 0.4659 - val_accuracy: 0.7850\n",
      "\n",
      "Epoch 00020: val_accuracy did not improve from 0.78809\n",
      "Epoch 21/1000\n",
      "162/162 [==============================] - 1s 6ms/step - loss: 0.3738 - accuracy: 0.8338 - val_loss: 0.4632 - val_accuracy: 0.7873\n",
      "\n",
      "Epoch 00021: val_accuracy did not improve from 0.78809\n",
      "Epoch 22/1000\n",
      "162/162 [==============================] - 1s 6ms/step - loss: 0.3691 - accuracy: 0.8306 - val_loss: 0.4632 - val_accuracy: 0.7842\n",
      "\n",
      "Epoch 00022: val_accuracy did not improve from 0.78809\n",
      "\n",
      "Epoch 00022: ReduceLROnPlateau reducing learning rate to 0.00010000000474974513.\n",
      "Epoch 23/1000\n",
      "162/162 [==============================] - 1s 7ms/step - loss: 0.3395 - accuracy: 0.8516 - val_loss: 0.4615 - val_accuracy: 0.7920\n",
      "\n",
      "Epoch 00023: val_accuracy improved from 0.78809 to 0.79196, saving model to checkpoints/model-23-0.79.hdf5\n",
      "Epoch 24/1000\n",
      "162/162 [==============================] - 1s 6ms/step - loss: 0.3334 - accuracy: 0.8578 - val_loss: 0.4618 - val_accuracy: 0.7958\n",
      "\n",
      "Epoch 00024: val_accuracy improved from 0.79196 to 0.79582, saving model to checkpoints/model-24-0.80.hdf5\n",
      "Epoch 25/1000\n",
      "162/162 [==============================] - 1s 6ms/step - loss: 0.3311 - accuracy: 0.8586 - val_loss: 0.4614 - val_accuracy: 0.7981\n",
      "\n",
      "Epoch 00025: val_accuracy improved from 0.79582 to 0.79814, saving model to checkpoints/model-25-0.80.hdf5\n",
      "Epoch 26/1000\n",
      "162/162 [==============================] - 1s 7ms/step - loss: 0.3290 - accuracy: 0.8602 - val_loss: 0.4648 - val_accuracy: 0.7966\n",
      "\n",
      "Epoch 00026: val_accuracy did not improve from 0.79814\n",
      "Epoch 27/1000\n",
      "162/162 [==============================] - 1s 6ms/step - loss: 0.3281 - accuracy: 0.8590 - val_loss: 0.4631 - val_accuracy: 0.7912\n",
      "\n",
      "Epoch 00027: val_accuracy did not improve from 0.79814\n",
      "Epoch 28/1000\n",
      "162/162 [==============================] - 1s 7ms/step - loss: 0.3265 - accuracy: 0.8594 - val_loss: 0.4626 - val_accuracy: 0.7935\n",
      "\n",
      "Epoch 00028: val_accuracy did not improve from 0.79814\n",
      "Epoch 29/1000\n",
      "162/162 [==============================] - 1s 6ms/step - loss: 0.3252 - accuracy: 0.8627 - val_loss: 0.4637 - val_accuracy: 0.7958\n",
      "\n",
      "Epoch 00029: val_accuracy did not improve from 0.79814\n",
      "Epoch 30/1000\n",
      "162/162 [==============================] - 1s 6ms/step - loss: 0.3239 - accuracy: 0.8609 - val_loss: 0.4650 - val_accuracy: 0.7935\n",
      "\n",
      "Epoch 00030: val_accuracy did not improve from 0.79814\n",
      "Epoch 31/1000\n",
      "162/162 [==============================] - 1s 6ms/step - loss: 0.3230 - accuracy: 0.8623 - val_loss: 0.4667 - val_accuracy: 0.7943\n",
      "\n",
      "Epoch 00031: val_accuracy did not improve from 0.79814\n",
      "Epoch 32/1000\n",
      "162/162 [==============================] - 1s 7ms/step - loss: 0.3218 - accuracy: 0.8634 - val_loss: 0.4705 - val_accuracy: 0.7920\n",
      "\n",
      "Epoch 00032: val_accuracy did not improve from 0.79814\n",
      "\n",
      "Epoch 00032: ReduceLROnPlateau reducing learning rate to 1.0000000474974514e-05.\n",
      "Epoch 33/1000\n",
      "162/162 [==============================] - 1s 7ms/step - loss: 0.3187 - accuracy: 0.8613 - val_loss: 0.4664 - val_accuracy: 0.7951\n",
      "\n",
      "Epoch 00033: val_accuracy did not improve from 0.79814\n",
      "Epoch 34/1000\n",
      "162/162 [==============================] - 1s 6ms/step - loss: 0.3176 - accuracy: 0.8652 - val_loss: 0.4655 - val_accuracy: 0.7958\n",
      "\n",
      "Epoch 00034: val_accuracy did not improve from 0.79814\n",
      "Epoch 35/1000\n",
      "162/162 [==============================] - 1s 6ms/step - loss: 0.3174 - accuracy: 0.8665 - val_loss: 0.4651 - val_accuracy: 0.7958\n",
      "\n",
      "Epoch 00035: val_accuracy did not improve from 0.79814\n",
      "Epoch 00035: early stopping\n"
     ]
    }
   ],
   "source": [
    "model = tf.keras.Sequential([\n",
    "    tf.keras.layers.Dense(64, activation='relu'),\n",
    "    tf.keras.layers.Dense(64, activation='relu'),\n",
    "    tf.keras.layers.Dense(64, activation='relu'),\n",
    "    tf.keras.layers.Dense(1, activation='sigmoid')\n",
    "])\n",
    "\n",
    "model.compile(\n",
    "    loss=tf.keras.losses.binary_crossentropy,\n",
    "    optimizer=tf.keras.optimizers.Adam(),\n",
    "    metrics=[tf.keras.metrics.BinaryAccuracy(name='accuracy')]\n",
    ")\n",
    "\n",
    "history = model.fit(\n",
    "    X_train_scaled, \n",
    "    y_train, \n",
    "    epochs=1000,\n",
    "    validation_data=(X_test_scaled, y_test),\n",
    "    callbacks=[cb_checkpoint, cb_reducelr, cb_earlystop, cb_csvlogger]\n",
    ")"
   ]
  },
  {
   "cell_type": "markdown",
   "id": "98ea578c-ef61-44eb-a243-e4f5092a2e20",
   "metadata": {},
   "source": [
    "<br>\n",
    "\n",
    "## Final evaluation\n",
    "- You can now load the best model - it will be the one with the highest epoch number"
   ]
  },
  {
   "cell_type": "code",
   "execution_count": 9,
   "id": "970d3a38-1915-457f-b9bb-e683aa4782d7",
   "metadata": {},
   "outputs": [],
   "source": [
    "best_model = tf.keras.models.load_model('checkpoints/model-25-0.80.hdf5')"
   ]
  },
  {
   "cell_type": "markdown",
   "id": "d946ea80-32c5-4a0d-9ab9-195461f77167",
   "metadata": {},
   "source": [
    "- Save yourself some time by calling `predict_classes()` instead of `predict()`\n",
    "- It assigns the classes automatically - you don't have to calculate them from probabilities"
   ]
  },
  {
   "cell_type": "code",
   "execution_count": 10,
   "id": "2e1d1c69-33ef-4749-b3c8-6ede188a1f56",
   "metadata": {},
   "outputs": [
    {
     "data": {
      "text/plain": [
       "array([1, 1, 0, ..., 1, 0, 1], dtype=int32)"
      ]
     },
     "execution_count": 10,
     "metadata": {},
     "output_type": "execute_result"
    }
   ],
   "source": [
    "best_model_preds = np.ravel(best_model.predict_classes(X_test_scaled))\n",
    "best_model_preds"
   ]
  },
  {
   "cell_type": "markdown",
   "id": "bc6d6581-8b03-4e7b-b591-dd9444d6a3b1",
   "metadata": {},
   "source": [
    "- Evaluate as you normally would"
   ]
  },
  {
   "cell_type": "code",
   "execution_count": 11,
   "id": "30bacbff-f634-43af-b79c-171559aca9d7",
   "metadata": {},
   "outputs": [
    {
     "name": "stdout",
     "output_type": "stream",
     "text": [
      "0.7981438515081206\n"
     ]
    }
   ],
   "source": [
    "from sklearn.metrics import accuracy_score\n",
    "\n",
    "print(accuracy_score(y_test, best_model_preds))"
   ]
  }
 ],
 "metadata": {
  "kernelspec": {
   "display_name": "tf",
   "language": "python",
   "name": "env_tensorflow"
  },
  "language_info": {
   "codemirror_mode": {
    "name": "ipython",
    "version": 3
   },
   "file_extension": ".py",
   "mimetype": "text/x-python",
   "name": "python",
   "nbconvert_exporter": "python",
   "pygments_lexer": "ipython3",
   "version": "3.9.7"
  }
 },
 "nbformat": 4,
 "nbformat_minor": 5
}
