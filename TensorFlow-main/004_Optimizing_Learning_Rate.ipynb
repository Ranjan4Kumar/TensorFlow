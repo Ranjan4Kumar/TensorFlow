{
 "cells": [
  {
   "cell_type": "markdown",
   "id": "f95fde14-38d9-42c9-81b3-ad5486546821",
   "metadata": {},
   "source": [
    "# Dataset import and preparation\n",
    "- https://www.kaggle.com/shelvigarg/wine-quality-dataset\n",
    "- Refer to https://github.com/better-data-science/TensorFlow/blob/main/003_TensorFlow_Classification.ipynb for detailed preparation instructions"
   ]
  },
  {
   "cell_type": "code",
   "execution_count": 1,
   "id": "87b44aa3-eed1-47a1-8049-c162ba03c0d1",
   "metadata": {},
   "outputs": [],
   "source": [
    "import os\n",
    "import numpy as np\n",
    "import pandas as pd\n",
    "import warnings\n",
    "os.environ['TF_CPP_MIN_LOG_LEVEL'] = '2' \n",
    "warnings.filterwarnings('ignore')\n",
    "\n",
    "df = pd.read_csv('data/winequalityN.csv')\n",
    "df.sample(5)"
   ]
  },
  {
   "cell_type": "code",
   "execution_count": 2,
   "id": "c2f3b3dc-7fdb-4223-ae26-132202e7ba7b",
   "metadata": {},
   "outputs": [],
   "source": [
    "from sklearn.model_selection import train_test_split\n",
    "from sklearn.preprocessing import StandardScaler\n",
    "\n",
    "\n",
    "# Prepare the data\n",
    "df = df.dropna()\n",
    "df['is_white_wine'] = [1 if typ == 'white' else 0 for typ in df['type']]\n",
    "df['is_good_wine'] = [1 if quality >= 6 else 0 for quality in df['quality']]\n",
    "df.drop(['type', 'quality'], axis=1, inplace=True)\n",
    "\n",
    "# Train/test split\n",
    "X = df.drop('is_good_wine', axis=1)\n",
    "y = df['is_good_wine']\n",
    "X_train, X_test, y_train, y_test = train_test_split(\n",
    "    X, y, \n",
    "    test_size=0.2, random_state=42\n",
    ")\n",
    "\n",
    "# Scaling\n",
    "scaler = StandardScaler()\n",
    "X_train_scaled = scaler.fit_transform(X_train)\n",
    "X_test_scaled = scaler.transform(X_test)"
   ]
  },
  {
   "cell_type": "code",
   "execution_count": 3,
   "id": "9746427f-6680-4292-a27e-e25a1ab31e66",
   "metadata": {},
   "outputs": [
    {
     "data": {
      "text/plain": [
       "array([[-0.86265684,  0.56588915,  0.22079121,  0.75048207,  0.07674805,\n",
       "         2.9415276 ,  2.35882933,  0.788386  ,  0.94784355, -0.20357893,\n",
       "        -1.66472797,  0.57094748],\n",
       "       [ 0.99186667, -1.02945526,  2.92098728, -0.3929423 , -0.17512717,\n",
       "        -0.08344183,  0.21383119, -0.64578381,  0.38700578, -0.87653487,\n",
       "         1.63149383,  0.57094748],\n",
       "       [-1.55810316, -0.72265826,  0.98238498,  0.14758559,  0.27265101,\n",
       "         0.5887736 ,  1.25973937, -0.37229096, -0.17383198, -0.74194369,\n",
       "        -0.62233304,  0.57094748]])"
      ]
     },
     "execution_count": 3,
     "metadata": {},
     "output_type": "execute_result"
    }
   ],
   "source": [
    "X_train_scaled[:3]"
   ]
  },
  {
   "cell_type": "markdown",
   "id": "022ef4c7-a88a-46e2-b2ec-744ae05c83f6",
   "metadata": {},
   "source": [
    "<br>\n",
    "\n",
    "# Training a model which finds the optimal learning rate"
   ]
  },
  {
   "cell_type": "code",
   "execution_count": 4,
   "id": "8065d7d8-9858-425a-82a0-372b921a550a",
   "metadata": {},
   "outputs": [
    {
     "name": "stdout",
     "output_type": "stream",
     "text": [
      "Init Plugin\n",
      "Init Graph Optimizer\n",
      "Init Kernel\n"
     ]
    }
   ],
   "source": [
    "import tensorflow as tf\n",
    "tf.random.set_seed(42)"
   ]
  },
  {
   "cell_type": "markdown",
   "id": "877a7242-6b99-4957-b3a0-9f6cbd9d5712",
   "metadata": {},
   "source": [
    "- This will be the minimum and maximum values for our learning rate:"
   ]
  },
  {
   "cell_type": "code",
   "execution_count": 15,
   "id": "ca2ef319-8c71-4bf4-a04d-08cfc1514fb5",
   "metadata": {},
   "outputs": [
    {
     "data": {
      "text/plain": [
       "(0.0010797751623277097, 2.1544346900318847)"
      ]
     },
     "execution_count": 15,
     "metadata": {},
     "output_type": "execute_result"
    }
   ],
   "source": [
    "1e-3 * 10 ** (1 / 30), 1e-3 * 10 ** (100 / 30)"
   ]
  },
  {
   "cell_type": "markdown",
   "id": "5991f2ab-a1da-4c0f-a2c9-6be230f2e1ba",
   "metadata": {},
   "source": [
    "- You can pass it as a `LearningRateScheduler` callback when fitting the model:"
   ]
  },
  {
   "cell_type": "code",
   "execution_count": 16,
   "id": "e78957d7-6279-4ba9-91fe-87cc8fdaf366",
   "metadata": {},
   "outputs": [
    {
     "name": "stdout",
     "output_type": "stream",
     "text": [
      "Epoch 1/100\n",
      "162/162 [==============================] - 1s 5ms/step - loss: 0.5216 - accuracy: 0.7362\n",
      "Epoch 2/100\n",
      "162/162 [==============================] - 1s 5ms/step - loss: 0.4935 - accuracy: 0.7615\n",
      "Epoch 3/100\n",
      "162/162 [==============================] - 1s 5ms/step - loss: 0.4793 - accuracy: 0.7712\n",
      "Epoch 4/100\n",
      "162/162 [==============================] - 1s 5ms/step - loss: 0.4642 - accuracy: 0.7774\n",
      "Epoch 5/100\n",
      "162/162 [==============================] - 1s 5ms/step - loss: 0.4552 - accuracy: 0.7822\n",
      "Epoch 6/100\n",
      "162/162 [==============================] - 1s 5ms/step - loss: 0.4473 - accuracy: 0.7896\n",
      "Epoch 7/100\n",
      "162/162 [==============================] - 1s 5ms/step - loss: 0.4438 - accuracy: 0.7896\n",
      "Epoch 8/100\n",
      "162/162 [==============================] - 1s 5ms/step - loss: 0.4346 - accuracy: 0.7965\n",
      "Epoch 9/100\n",
      "162/162 [==============================] - 1s 5ms/step - loss: 0.4276 - accuracy: 0.8014\n",
      "Epoch 10/100\n",
      "162/162 [==============================] - 1s 5ms/step - loss: 0.4243 - accuracy: 0.8044\n",
      "Epoch 11/100\n",
      "162/162 [==============================] - 1s 5ms/step - loss: 0.4202 - accuracy: 0.8048\n",
      "Epoch 12/100\n",
      "162/162 [==============================] - 1s 5ms/step - loss: 0.4084 - accuracy: 0.8091\n",
      "Epoch 13/100\n",
      "162/162 [==============================] - 1s 5ms/step - loss: 0.4064 - accuracy: 0.8116\n",
      "Epoch 14/100\n",
      "162/162 [==============================] - 1s 5ms/step - loss: 0.3989 - accuracy: 0.8182\n",
      "Epoch 15/100\n",
      "162/162 [==============================] - 1s 5ms/step - loss: 0.4006 - accuracy: 0.8157\n",
      "Epoch 16/100\n",
      "162/162 [==============================] - 1s 5ms/step - loss: 0.3897 - accuracy: 0.8236\n",
      "Epoch 17/100\n",
      "162/162 [==============================] - 1s 5ms/step - loss: 0.3832 - accuracy: 0.8244\n",
      "Epoch 18/100\n",
      "162/162 [==============================] - 1s 5ms/step - loss: 0.3817 - accuracy: 0.8236\n",
      "Epoch 19/100\n",
      "162/162 [==============================] - 1s 5ms/step - loss: 0.3847 - accuracy: 0.8253\n",
      "Epoch 20/100\n",
      "162/162 [==============================] - 1s 5ms/step - loss: 0.3874 - accuracy: 0.8271\n",
      "Epoch 21/100\n",
      "162/162 [==============================] - 1s 5ms/step - loss: 0.3802 - accuracy: 0.8280\n",
      "Epoch 22/100\n",
      "162/162 [==============================] - 1s 5ms/step - loss: 0.3743 - accuracy: 0.8317\n",
      "Epoch 23/100\n",
      "162/162 [==============================] - 1s 5ms/step - loss: 0.3767 - accuracy: 0.8280\n",
      "Epoch 24/100\n",
      "162/162 [==============================] - 1s 5ms/step - loss: 0.3664 - accuracy: 0.8342\n",
      "Epoch 25/100\n",
      "162/162 [==============================] - 1s 5ms/step - loss: 0.3747 - accuracy: 0.8317\n",
      "Epoch 26/100\n",
      "162/162 [==============================] - 1s 5ms/step - loss: 0.3679 - accuracy: 0.8329\n",
      "Epoch 27/100\n",
      "162/162 [==============================] - 1s 5ms/step - loss: 0.3832 - accuracy: 0.8284\n",
      "Epoch 28/100\n",
      "162/162 [==============================] - 1s 5ms/step - loss: 0.3761 - accuracy: 0.8300\n",
      "Epoch 29/100\n",
      "162/162 [==============================] - 1s 5ms/step - loss: 0.3824 - accuracy: 0.8238\n",
      "Epoch 30/100\n",
      "162/162 [==============================] - 1s 5ms/step - loss: 0.3868 - accuracy: 0.8153\n",
      "Epoch 31/100\n",
      "162/162 [==============================] - 1s 5ms/step - loss: 0.3919 - accuracy: 0.8207\n",
      "Epoch 32/100\n",
      "162/162 [==============================] - 1s 5ms/step - loss: 0.3892 - accuracy: 0.8205\n",
      "Epoch 33/100\n",
      "162/162 [==============================] - 1s 5ms/step - loss: 0.4082 - accuracy: 0.8095\n",
      "Epoch 34/100\n",
      "162/162 [==============================] - 1s 5ms/step - loss: 0.4081 - accuracy: 0.8139\n",
      "Epoch 35/100\n",
      "162/162 [==============================] - 1s 5ms/step - loss: 0.4056 - accuracy: 0.8116\n",
      "Epoch 36/100\n",
      "162/162 [==============================] - 1s 5ms/step - loss: 0.4239 - accuracy: 0.8044\n",
      "Epoch 37/100\n",
      "162/162 [==============================] - 1s 5ms/step - loss: 0.4409 - accuracy: 0.7886\n",
      "Epoch 38/100\n",
      "162/162 [==============================] - 1s 5ms/step - loss: 0.4263 - accuracy: 0.8074\n",
      "Epoch 39/100\n",
      "162/162 [==============================] - 1s 5ms/step - loss: 0.4468 - accuracy: 0.7963\n",
      "Epoch 40/100\n",
      "162/162 [==============================] - 1s 5ms/step - loss: 0.4474 - accuracy: 0.7861\n",
      "Epoch 41/100\n",
      "162/162 [==============================] - 1s 5ms/step - loss: 0.4868 - accuracy: 0.7632\n",
      "Epoch 42/100\n",
      "162/162 [==============================] - 1s 5ms/step - loss: 0.4518 - accuracy: 0.7805\n",
      "Epoch 43/100\n",
      "162/162 [==============================] - 1s 5ms/step - loss: 0.4736 - accuracy: 0.7660\n",
      "Epoch 44/100\n",
      "162/162 [==============================] - 1s 5ms/step - loss: 0.4935 - accuracy: 0.7567\n",
      "Epoch 45/100\n",
      "162/162 [==============================] - 1s 5ms/step - loss: 0.4715 - accuracy: 0.7710\n",
      "Epoch 46/100\n",
      "162/162 [==============================] - 1s 5ms/step - loss: 0.4703 - accuracy: 0.7799\n",
      "Epoch 47/100\n",
      "162/162 [==============================] - 1s 5ms/step - loss: 0.4620 - accuracy: 0.7729\n",
      "Epoch 48/100\n",
      "162/162 [==============================] - 1s 5ms/step - loss: 0.5171 - accuracy: 0.7464\n",
      "Epoch 49/100\n",
      "162/162 [==============================] - 1s 5ms/step - loss: 0.5518 - accuracy: 0.7091\n",
      "Epoch 50/100\n",
      "162/162 [==============================] - 1s 5ms/step - loss: 0.6125 - accuracy: 0.6868\n",
      "Epoch 51/100\n",
      "162/162 [==============================] - 1s 5ms/step - loss: 0.6465 - accuracy: 0.6476\n",
      "Epoch 52/100\n",
      "162/162 [==============================] - 1s 5ms/step - loss: 0.6167 - accuracy: 0.6472\n",
      "Epoch 53/100\n",
      "162/162 [==============================] - 1s 5ms/step - loss: 0.5946 - accuracy: 0.6350\n",
      "Epoch 54/100\n",
      "162/162 [==============================] - 1s 5ms/step - loss: 0.6347 - accuracy: 0.6259\n",
      "Epoch 55/100\n",
      "162/162 [==============================] - 1s 5ms/step - loss: 0.6576 - accuracy: 0.6344\n",
      "Epoch 56/100\n",
      "162/162 [==============================] - 1s 5ms/step - loss: 0.6581 - accuracy: 0.6344\n",
      "Epoch 57/100\n",
      "162/162 [==============================] - 1s 5ms/step - loss: 0.6596 - accuracy: 0.6344\n",
      "Epoch 58/100\n",
      "162/162 [==============================] - 1s 5ms/step - loss: 0.6587 - accuracy: 0.6344\n",
      "Epoch 59/100\n",
      "162/162 [==============================] - 1s 5ms/step - loss: 0.6572 - accuracy: 0.6344\n",
      "Epoch 60/100\n",
      "162/162 [==============================] - 1s 5ms/step - loss: 0.6578 - accuracy: 0.6344\n",
      "Epoch 61/100\n",
      "162/162 [==============================] - 1s 5ms/step - loss: 0.6602 - accuracy: 0.6344\n",
      "Epoch 62/100\n",
      "162/162 [==============================] - 1s 5ms/step - loss: 0.6591 - accuracy: 0.6344\n",
      "Epoch 63/100\n",
      "162/162 [==============================] - 1s 5ms/step - loss: 0.6599 - accuracy: 0.6344\n",
      "Epoch 64/100\n",
      "162/162 [==============================] - 1s 5ms/step - loss: 0.6585 - accuracy: 0.6344\n",
      "Epoch 65/100\n",
      "162/162 [==============================] - 1s 5ms/step - loss: 0.6601 - accuracy: 0.6344\n",
      "Epoch 66/100\n",
      "162/162 [==============================] - 1s 5ms/step - loss: 0.6602 - accuracy: 0.6344\n",
      "Epoch 67/100\n",
      "162/162 [==============================] - 1s 5ms/step - loss: 0.6604 - accuracy: 0.6344\n",
      "Epoch 68/100\n",
      "162/162 [==============================] - 1s 5ms/step - loss: 0.6588 - accuracy: 0.6344\n",
      "Epoch 69/100\n",
      "162/162 [==============================] - 1s 5ms/step - loss: 0.6611 - accuracy: 0.6344\n",
      "Epoch 70/100\n",
      "162/162 [==============================] - 1s 5ms/step - loss: 0.6622 - accuracy: 0.6344\n",
      "Epoch 71/100\n",
      "162/162 [==============================] - 1s 5ms/step - loss: 0.6596 - accuracy: 0.6344\n",
      "Epoch 72/100\n",
      "162/162 [==============================] - 1s 5ms/step - loss: 0.6609 - accuracy: 0.6294\n",
      "Epoch 73/100\n",
      "162/162 [==============================] - 1s 5ms/step - loss: 0.6636 - accuracy: 0.6313\n",
      "Epoch 74/100\n",
      "162/162 [==============================] - 1s 5ms/step - loss: 0.6622 - accuracy: 0.6344\n",
      "Epoch 75/100\n",
      "162/162 [==============================] - 1s 5ms/step - loss: 0.6628 - accuracy: 0.6344\n",
      "Epoch 76/100\n",
      "162/162 [==============================] - 1s 5ms/step - loss: 0.6625 - accuracy: 0.6344\n",
      "Epoch 77/100\n",
      "162/162 [==============================] - 1s 5ms/step - loss: 0.6632 - accuracy: 0.6275\n",
      "Epoch 78/100\n",
      "162/162 [==============================] - 1s 5ms/step - loss: 0.6628 - accuracy: 0.6313\n",
      "Epoch 79/100\n",
      "162/162 [==============================] - 1s 5ms/step - loss: 0.6619 - accuracy: 0.6344\n",
      "Epoch 80/100\n",
      "162/162 [==============================] - 1s 5ms/step - loss: 0.6610 - accuracy: 0.6344\n",
      "Epoch 81/100\n",
      "162/162 [==============================] - 1s 5ms/step - loss: 0.6643 - accuracy: 0.6344\n",
      "Epoch 82/100\n",
      "162/162 [==============================] - 1s 5ms/step - loss: 0.6708 - accuracy: 0.6201\n",
      "Epoch 83/100\n",
      "162/162 [==============================] - 1s 5ms/step - loss: 0.6691 - accuracy: 0.6344\n",
      "Epoch 84/100\n",
      "162/162 [==============================] - 1s 5ms/step - loss: 0.6677 - accuracy: 0.6217\n",
      "Epoch 85/100\n",
      "162/162 [==============================] - 1s 5ms/step - loss: 0.6785 - accuracy: 0.6116\n",
      "Epoch 86/100\n",
      "162/162 [==============================] - 1s 5ms/step - loss: 0.6675 - accuracy: 0.6201\n",
      "Epoch 87/100\n",
      "162/162 [==============================] - 1s 5ms/step - loss: 0.6683 - accuracy: 0.6251\n",
      "Epoch 88/100\n",
      "162/162 [==============================] - 1s 5ms/step - loss: 0.6714 - accuracy: 0.6232\n",
      "Epoch 89/100\n",
      "162/162 [==============================] - 1s 5ms/step - loss: 0.6692 - accuracy: 0.6244\n",
      "Epoch 90/100\n",
      "162/162 [==============================] - 1s 5ms/step - loss: 0.6775 - accuracy: 0.6081\n",
      "Epoch 91/100\n",
      "162/162 [==============================] - 1s 5ms/step - loss: 0.6733 - accuracy: 0.6124\n",
      "Epoch 92/100\n",
      "162/162 [==============================] - 1s 5ms/step - loss: 0.6802 - accuracy: 0.6054\n",
      "Epoch 93/100\n",
      "162/162 [==============================] - 1s 5ms/step - loss: 0.6675 - accuracy: 0.6213\n",
      "Epoch 94/100\n",
      "162/162 [==============================] - 1s 5ms/step - loss: 0.6663 - accuracy: 0.6306\n",
      "Epoch 95/100\n",
      "162/162 [==============================] - 1s 5ms/step - loss: 0.6735 - accuracy: 0.6178\n",
      "Epoch 96/100\n",
      "162/162 [==============================] - 1s 5ms/step - loss: 0.6807 - accuracy: 0.6104\n",
      "Epoch 97/100\n",
      "162/162 [==============================] - 1s 5ms/step - loss: 0.6811 - accuracy: 0.6015\n",
      "Epoch 98/100\n",
      "162/162 [==============================] - 1s 5ms/step - loss: 0.6855 - accuracy: 0.5938\n",
      "Epoch 99/100\n",
      "162/162 [==============================] - 1s 5ms/step - loss: 0.7143 - accuracy: 0.5807\n",
      "Epoch 100/100\n",
      "162/162 [==============================] - 1s 5ms/step - loss: 0.6812 - accuracy: 0.5950\n"
     ]
    }
   ],
   "source": [
    "initial_model = tf.keras.Sequential([\n",
    "    tf.keras.layers.Dense(128, activation='relu'),\n",
    "    tf.keras.layers.Dense(256, activation='relu'),\n",
    "    tf.keras.layers.Dense(256, activation='relu'),\n",
    "    tf.keras.layers.Dense(1, activation='sigmoid')\n",
    "])\n",
    "\n",
    "initial_model.compile(\n",
    "    loss=tf.keras.losses.binary_crossentropy,\n",
    "    optimizer=tf.keras.optimizers.Adam(),\n",
    "    metrics=[\n",
    "        tf.keras.metrics.BinaryAccuracy(name='accuracy')\n",
    "    ]\n",
    ")\n",
    "\n",
    "initial_history = initial_model.fit(\n",
    "    X_train_scaled,\n",
    "    y_train,\n",
    "    epochs=100,\n",
    "    callbacks=[\n",
    "        tf.keras.callbacks.LearningRateScheduler(\n",
    "            lambda epoch: 1e-3 * 10 ** (epoch / 30)\n",
    "        )\n",
    "    ]\n",
    ")"
   ]
  },
  {
   "cell_type": "markdown",
   "id": "3118df80-7ba6-41e4-bbe2-243f001ba4fe",
   "metadata": {},
   "source": [
    "- The accuracy was terrible at the end - makes sense as our model had a huge learning rate\n",
    "- Let's plot loss vs. accuracy vs. learning rate:"
   ]
  },
  {
   "cell_type": "code",
   "execution_count": 17,
   "id": "5ec6f417-b72c-48ac-98f1-84675e9ac184",
   "metadata": {},
   "outputs": [],
   "source": [
    "import matplotlib.pyplot as plt\n",
    "from matplotlib import rcParams\n",
    "\n",
    "rcParams['figure.figsize'] = (18, 8)\n",
    "rcParams['axes.spines.top'] = False\n",
    "rcParams['axes.spines.right'] = False"
   ]
  },
  {
   "cell_type": "code",
   "execution_count": 21,
   "id": "d24bf68a-4519-49fb-bcae-c588d25fe1c6",
   "metadata": {},
   "outputs": [
    {
     "data": {
      "image/png": "[encoded data removed]",
      "text/plain": [
       "<Figure size 1296x576 with 1 Axes>"
      ]
     },
     "metadata": {
      "needs_background": "light"
     },
     "output_type": "display_data"
    }
   ],
   "source": [
    "plt.plot(np.arange(1, 101), initial_history.history['loss'], label='Loss', lw=3)\n",
    "plt.plot(np.arange(1, 101), initial_history.history['accuracy'], label='Accuracy', lw=3)\n",
    "plt.plot(np.arange(1, 101), initial_history.history['lr'], label='Learning rate', color='#000', lw=3, linestyle='--')\n",
    "plt.title('Evaluation metrics', size=20)\n",
    "plt.xlabel('Epoch', size=14)\n",
    "plt.legend()\n",
    "plt.savefig('eval_vs_lr.jpg', dpi=300, bbox_inches='tight');"
   ]
  },
  {
   "cell_type": "markdown",
   "id": "683104ee-4649-4d51-a1e1-b4c886d7a95c",
   "metadata": {},
   "source": [
    "- Accuracy dipped significantly around epoch 50, then flattened, and dipped once again towards the end\n",
    "- The exact opposite happened to loss\n",
    "- Let's now plot the learning rate against loss:"
   ]
  },
  {
   "cell_type": "code",
   "execution_count": 25,
   "id": "806ddda1-3a17-47c7-be1e-119fa20dd808",
   "metadata": {},
   "outputs": [
    {
     "data": {
      "image/png": "[encoded data removed]",
      "text/plain": [
       "<Figure size 1296x576 with 1 Axes>"
      ]
     },
     "metadata": {
      "needs_background": "light"
     },
     "output_type": "display_data"
    }
   ],
   "source": [
    "learning_rates = 1e-3 * (10 ** (np.arange(100) / 30))\n",
    "plt.semilogx(learning_rates, initial_history.history['loss'], lw=3, color='#000')\n",
    "plt.title('Learning rate vs. loss', size=20)\n",
    "plt.xlabel('Learning rate', size=14)\n",
    "plt.ylabel('Loss', size=14)\n",
    "plt.savefig('lr_vs_loss.jpg', dpi=300, bbox_inches='tight');"
   ]
  },
  {
   "cell_type": "markdown",
   "id": "6e4cfb45-4c29-495d-8a2f-02fd2fa34498",
   "metadata": {},
   "source": [
    "<br>\n",
    "\n",
    "# Training a model with the optimal learning rate\n",
    "- You're looking for a learning rate value that achieved minimum loss\n",
    "- Looks like 0.007 works the best for this dataset\n",
    "- Let's retrain the model:"
   ]
  },
  {
   "cell_type": "code",
   "execution_count": 26,
   "id": "26fd8423-5f72-4083-ae4f-6d84be0ac2f2",
   "metadata": {},
   "outputs": [
    {
     "name": "stdout",
     "output_type": "stream",
     "text": [
      "Epoch 1/100\n",
      "162/162 [==============================] - 1s 5ms/step - loss: 0.5336 - accuracy: 0.7412\n",
      "Epoch 2/100\n",
      "162/162 [==============================] - 1s 5ms/step - loss: 0.5084 - accuracy: 0.7565\n",
      "Epoch 3/100\n",
      "162/162 [==============================] - 1s 5ms/step - loss: 0.5006 - accuracy: 0.7636\n",
      "Epoch 4/100\n",
      "162/162 [==============================] - 1s 5ms/step - loss: 0.4867 - accuracy: 0.7700\n",
      "Epoch 5/100\n",
      "162/162 [==============================] - 1s 5ms/step - loss: 0.4807 - accuracy: 0.7710\n",
      "Epoch 6/100\n",
      "162/162 [==============================] - 1s 5ms/step - loss: 0.4736 - accuracy: 0.7783\n",
      "Epoch 7/100\n",
      "162/162 [==============================] - 1s 5ms/step - loss: 0.4738 - accuracy: 0.7737\n",
      "Epoch 8/100\n",
      "162/162 [==============================] - 1s 5ms/step - loss: 0.4617 - accuracy: 0.7868\n",
      "Epoch 9/100\n",
      "162/162 [==============================] - 1s 5ms/step - loss: 0.4571 - accuracy: 0.7892\n",
      "Epoch 10/100\n",
      "162/162 [==============================] - 1s 5ms/step - loss: 0.4512 - accuracy: 0.7899\n",
      "Epoch 11/100\n",
      "162/162 [==============================] - 1s 5ms/step - loss: 0.4460 - accuracy: 0.7909\n",
      "Epoch 12/100\n",
      "162/162 [==============================] - 1s 5ms/step - loss: 0.4296 - accuracy: 0.8025\n",
      "Epoch 13/100\n",
      "162/162 [==============================] - 1s 5ms/step - loss: 0.4284 - accuracy: 0.8048\n",
      "Epoch 14/100\n",
      "162/162 [==============================] - 1s 5ms/step - loss: 0.4167 - accuracy: 0.8054\n",
      "Epoch 15/100\n",
      "162/162 [==============================] - 1s 5ms/step - loss: 0.4234 - accuracy: 0.8029\n",
      "Epoch 16/100\n",
      "162/162 [==============================] - 1s 5ms/step - loss: 0.4071 - accuracy: 0.8145\n",
      "Epoch 17/100\n",
      "162/162 [==============================] - 1s 5ms/step - loss: 0.3873 - accuracy: 0.8221\n",
      "Epoch 18/100\n",
      "162/162 [==============================] - 1s 5ms/step - loss: 0.3872 - accuracy: 0.8190\n",
      "Epoch 19/100\n",
      "162/162 [==============================] - 1s 5ms/step - loss: 0.3732 - accuracy: 0.8284\n",
      "Epoch 20/100\n",
      "162/162 [==============================] - 1s 5ms/step - loss: 0.3743 - accuracy: 0.8292\n",
      "Epoch 21/100\n",
      "162/162 [==============================] - 1s 5ms/step - loss: 0.3604 - accuracy: 0.8387\n",
      "Epoch 22/100\n",
      "162/162 [==============================] - 1s 5ms/step - loss: 0.3482 - accuracy: 0.8385\n",
      "Epoch 23/100\n",
      "162/162 [==============================] - 1s 5ms/step - loss: 0.3482 - accuracy: 0.8400\n",
      "Epoch 24/100\n",
      "162/162 [==============================] - 1s 5ms/step - loss: 0.3339 - accuracy: 0.8524\n",
      "Epoch 25/100\n",
      "162/162 [==============================] - 1s 5ms/step - loss: 0.3266 - accuracy: 0.8520\n",
      "Epoch 26/100\n",
      "162/162 [==============================] - 1s 5ms/step - loss: 0.3272 - accuracy: 0.8503\n",
      "Epoch 27/100\n",
      "162/162 [==============================] - 1s 5ms/step - loss: 0.3154 - accuracy: 0.8573\n",
      "Epoch 28/100\n",
      "162/162 [==============================] - 1s 5ms/step - loss: 0.2986 - accuracy: 0.8673\n",
      "Epoch 29/100\n",
      "162/162 [==============================] - 1s 5ms/step - loss: 0.2985 - accuracy: 0.8669\n",
      "Epoch 30/100\n",
      "162/162 [==============================] - 1s 5ms/step - loss: 0.3024 - accuracy: 0.8636\n",
      "Epoch 31/100\n",
      "162/162 [==============================] - 1s 5ms/step - loss: 0.2941 - accuracy: 0.8662\n",
      "Epoch 32/100\n",
      "162/162 [==============================] - 1s 5ms/step - loss: 0.2696 - accuracy: 0.8809\n",
      "Epoch 33/100\n",
      "162/162 [==============================] - 1s 5ms/step - loss: 0.2608 - accuracy: 0.8810\n",
      "Epoch 34/100\n",
      "162/162 [==============================] - 1s 5ms/step - loss: 0.2703 - accuracy: 0.8772\n",
      "Epoch 35/100\n",
      "162/162 [==============================] - 1s 5ms/step - loss: 0.2614 - accuracy: 0.8799\n",
      "Epoch 36/100\n",
      "162/162 [==============================] - 1s 5ms/step - loss: 0.2588 - accuracy: 0.8799\n",
      "Epoch 37/100\n",
      "162/162 [==============================] - 1s 5ms/step - loss: 0.2458 - accuracy: 0.8938\n",
      "Epoch 38/100\n",
      "162/162 [==============================] - 1s 5ms/step - loss: 0.2268 - accuracy: 0.8948\n",
      "Epoch 39/100\n",
      "162/162 [==============================] - 1s 5ms/step - loss: 0.2381 - accuracy: 0.8917\n",
      "Epoch 40/100\n",
      "162/162 [==============================] - 1s 5ms/step - loss: 0.2109 - accuracy: 0.9081\n",
      "Epoch 41/100\n",
      "162/162 [==============================] - 1s 5ms/step - loss: 0.2115 - accuracy: 0.9108\n",
      "Epoch 42/100\n",
      "162/162 [==============================] - 1s 5ms/step - loss: 0.2214 - accuracy: 0.9019\n",
      "Epoch 43/100\n",
      "162/162 [==============================] - 1s 5ms/step - loss: 0.2155 - accuracy: 0.9006\n",
      "Epoch 44/100\n",
      "162/162 [==============================] - 1s 5ms/step - loss: 0.1960 - accuracy: 0.9114\n",
      "Epoch 45/100\n",
      "162/162 [==============================] - 1s 5ms/step - loss: 0.2055 - accuracy: 0.9083\n",
      "Epoch 46/100\n",
      "162/162 [==============================] - 1s 5ms/step - loss: 0.1986 - accuracy: 0.9103\n",
      "Epoch 47/100\n",
      "162/162 [==============================] - 1s 5ms/step - loss: 0.2025 - accuracy: 0.9074\n",
      "Epoch 48/100\n",
      "162/162 [==============================] - 1s 5ms/step - loss: 0.1857 - accuracy: 0.9164\n",
      "Epoch 49/100\n",
      "162/162 [==============================] - 1s 5ms/step - loss: 0.1890 - accuracy: 0.9205\n",
      "Epoch 50/100\n",
      "162/162 [==============================] - 1s 5ms/step - loss: 0.1598 - accuracy: 0.9280\n",
      "Epoch 51/100\n",
      "162/162 [==============================] - 1s 5ms/step - loss: 0.1646 - accuracy: 0.9261\n",
      "Epoch 52/100\n",
      "162/162 [==============================] - 1s 5ms/step - loss: 0.1656 - accuracy: 0.9242\n",
      "Epoch 53/100\n",
      "162/162 [==============================] - 1s 5ms/step - loss: 0.1925 - accuracy: 0.9209\n",
      "Epoch 54/100\n",
      "162/162 [==============================] - 1s 5ms/step - loss: 0.1648 - accuracy: 0.9315\n",
      "Epoch 55/100\n",
      "162/162 [==============================] - 1s 5ms/step - loss: 0.1590 - accuracy: 0.9327\n",
      "Epoch 56/100\n",
      "162/162 [==============================] - 1s 5ms/step - loss: 0.1537 - accuracy: 0.9337\n",
      "Epoch 57/100\n",
      "162/162 [==============================] - 1s 5ms/step - loss: 0.1706 - accuracy: 0.9282\n",
      "Epoch 58/100\n",
      "162/162 [==============================] - 1s 5ms/step - loss: 0.1659 - accuracy: 0.9292\n",
      "Epoch 59/100\n",
      "162/162 [==============================] - 1s 5ms/step - loss: 0.1648 - accuracy: 0.9292\n",
      "Epoch 60/100\n",
      "162/162 [==============================] - 1s 5ms/step - loss: 0.1484 - accuracy: 0.9402\n",
      "Epoch 61/100\n",
      "162/162 [==============================] - 1s 5ms/step - loss: 0.1196 - accuracy: 0.9493\n",
      "Epoch 62/100\n",
      "162/162 [==============================] - 1s 5ms/step - loss: 0.1523 - accuracy: 0.9360\n",
      "Epoch 63/100\n",
      "162/162 [==============================] - 1s 5ms/step - loss: 0.1524 - accuracy: 0.9338\n",
      "Epoch 64/100\n",
      "162/162 [==============================] - 1s 5ms/step - loss: 0.1294 - accuracy: 0.9418\n",
      "Epoch 65/100\n",
      "162/162 [==============================] - 1s 5ms/step - loss: 0.1278 - accuracy: 0.9435\n",
      "Epoch 66/100\n",
      "162/162 [==============================] - 1s 5ms/step - loss: 0.1407 - accuracy: 0.9422\n",
      "Epoch 67/100\n",
      "162/162 [==============================] - 1s 5ms/step - loss: 0.1350 - accuracy: 0.9453\n",
      "Epoch 68/100\n",
      "162/162 [==============================] - 1s 5ms/step - loss: 0.1698 - accuracy: 0.9329\n",
      "Epoch 69/100\n",
      "162/162 [==============================] - 1s 5ms/step - loss: 0.1398 - accuracy: 0.9449\n",
      "Epoch 70/100\n",
      "162/162 [==============================] - 1s 5ms/step - loss: 0.1279 - accuracy: 0.9487\n",
      "Epoch 71/100\n",
      "162/162 [==============================] - 1s 5ms/step - loss: 0.1359 - accuracy: 0.9435\n",
      "Epoch 72/100\n",
      "162/162 [==============================] - 1s 5ms/step - loss: 0.1216 - accuracy: 0.9503\n",
      "Epoch 73/100\n",
      "162/162 [==============================] - 1s 5ms/step - loss: 0.1336 - accuracy: 0.9462\n",
      "Epoch 74/100\n",
      "162/162 [==============================] - 1s 5ms/step - loss: 0.1036 - accuracy: 0.9569\n",
      "Epoch 75/100\n",
      "162/162 [==============================] - 1s 5ms/step - loss: 0.1303 - accuracy: 0.9505\n",
      "Epoch 76/100\n",
      "162/162 [==============================] - 1s 5ms/step - loss: 0.1251 - accuracy: 0.9544\n",
      "Epoch 77/100\n",
      "162/162 [==============================] - 1s 5ms/step - loss: 0.1051 - accuracy: 0.9602\n",
      "Epoch 78/100\n",
      "162/162 [==============================] - 1s 5ms/step - loss: 0.1327 - accuracy: 0.9482\n",
      "Epoch 79/100\n",
      "162/162 [==============================] - 1s 5ms/step - loss: 0.1199 - accuracy: 0.9540\n",
      "Epoch 80/100\n",
      "162/162 [==============================] - 1s 5ms/step - loss: 0.0989 - accuracy: 0.9573\n",
      "Epoch 81/100\n",
      "162/162 [==============================] - 1s 5ms/step - loss: 0.1213 - accuracy: 0.9524\n",
      "Epoch 82/100\n",
      "162/162 [==============================] - 1s 5ms/step - loss: 0.0965 - accuracy: 0.9607\n",
      "Epoch 83/100\n",
      "162/162 [==============================] - 1s 5ms/step - loss: 0.1271 - accuracy: 0.9540\n",
      "Epoch 84/100\n",
      "162/162 [==============================] - 1s 5ms/step - loss: 0.1013 - accuracy: 0.9611\n",
      "Epoch 85/100\n",
      "162/162 [==============================] - 1s 5ms/step - loss: 0.1122 - accuracy: 0.9551\n",
      "Epoch 86/100\n",
      "162/162 [==============================] - 1s 5ms/step - loss: 0.1046 - accuracy: 0.9609\n",
      "Epoch 87/100\n",
      "162/162 [==============================] - 1s 5ms/step - loss: 0.1017 - accuracy: 0.9594\n",
      "Epoch 88/100\n",
      "162/162 [==============================] - 1s 5ms/step - loss: 0.1136 - accuracy: 0.9530\n",
      "Epoch 89/100\n",
      "162/162 [==============================] - 1s 5ms/step - loss: 0.1291 - accuracy: 0.9513\n",
      "Epoch 90/100\n",
      "162/162 [==============================] - 1s 5ms/step - loss: 0.0866 - accuracy: 0.9656\n",
      "Epoch 91/100\n",
      "162/162 [==============================] - 1s 5ms/step - loss: 0.0928 - accuracy: 0.9640\n",
      "Epoch 92/100\n",
      "162/162 [==============================] - 1s 5ms/step - loss: 0.1095 - accuracy: 0.9571\n",
      "Epoch 93/100\n",
      "162/162 [==============================] - 1s 5ms/step - loss: 0.1008 - accuracy: 0.9621\n",
      "Epoch 94/100\n",
      "162/162 [==============================] - 1s 5ms/step - loss: 0.0708 - accuracy: 0.9739\n",
      "Epoch 95/100\n",
      "162/162 [==============================] - 1s 5ms/step - loss: 0.0923 - accuracy: 0.9677\n",
      "Epoch 96/100\n",
      "162/162 [==============================] - 1s 5ms/step - loss: 0.0844 - accuracy: 0.9642\n",
      "Epoch 97/100\n",
      "162/162 [==============================] - 1s 5ms/step - loss: 0.1246 - accuracy: 0.9551\n",
      "Epoch 98/100\n",
      "162/162 [==============================] - 1s 5ms/step - loss: 0.1174 - accuracy: 0.9545\n",
      "Epoch 99/100\n",
      "162/162 [==============================] - 1s 5ms/step - loss: 0.0821 - accuracy: 0.9700\n",
      "Epoch 100/100\n",
      "162/162 [==============================] - 1s 5ms/step - loss: 0.0996 - accuracy: 0.9596\n"
     ]
    }
   ],
   "source": [
    "model_optimized = tf.keras.Sequential([\n",
    "    tf.keras.layers.Dense(128, activation='relu'),\n",
    "    tf.keras.layers.Dense(256, activation='relu'),\n",
    "    tf.keras.layers.Dense(256, activation='relu'),\n",
    "    tf.keras.layers.Dense(1, activation='sigmoid')\n",
    "])\n",
    "\n",
    "model_optimized.compile(\n",
    "    loss=tf.keras.losses.binary_crossentropy,\n",
    "    optimizer=tf.keras.optimizers.Adam(learning_rate=0.007),\n",
    "    metrics=[\n",
    "        tf.keras.metrics.BinaryAccuracy(name='accuracy')\n",
    "    ]\n",
    ")\n",
    "\n",
    "history_optimized = model_optimized.fit(\n",
    "    X_train_scaled,\n",
    "    y_train,\n",
    "    epochs=100\n",
    ")"
   ]
  },
  {
   "cell_type": "markdown",
   "id": "d9dfb591-3ea7-4ada-bafc-baf30b2b05c0",
   "metadata": {},
   "source": [
    "- Susipiciously high training accuracy - possible overfit\n",
    "- Let's plot loss vs. accuracy:"
   ]
  },
  {
   "cell_type": "code",
   "execution_count": 28,
   "id": "c74908e5-a443-4261-9dc0-61368649b9e7",
   "metadata": {},
   "outputs": [
    {
     "data": {
      "image/png": "[encoded data removed]",
      "text/plain": [
       "<Figure size 1296x576 with 1 Axes>"
      ]
     },
     "metadata": {
      "needs_background": "light"
     },
     "output_type": "display_data"
    }
   ],
   "source": [
    "plt.plot(np.arange(1, 101), history_optimized.history['loss'], label='Loss', lw=3)\n",
    "plt.plot(np.arange(1, 101), history_optimized.history['accuracy'], label='Accuracy', lw=3)\n",
    "plt.title('Accuracy vs. Loss per epoch', size=20)\n",
    "plt.xlabel('Epoch', size=14)\n",
    "plt.legend()\n",
    "plt.savefig('accuracy_per_epoch.jpg', dpi=300, bbox_inches='tight');"
   ]
  },
  {
   "cell_type": "markdown",
   "id": "44370ad4-8d6b-4c12-9596-8945f82e59c9",
   "metadata": {},
   "source": [
    "<br>\n",
    "# Model evaluation on the test set\n",
    "- Let's now make predictions, convert them to classes and print accuracy and confusion matrix:"
   ]
  },
  {
   "cell_type": "code",
   "execution_count": 30,
   "id": "c048d4c8-3593-4845-9c69-4aa7d92b8b99",
   "metadata": {},
   "outputs": [
    {
     "data": {
      "text/plain": [
       "array([[0.9578252],\n",
       "       [0.9969375],\n",
       "       [0.9997428],\n",
       "       ...,\n",
       "       [0.9999573],\n",
       "       [0.660783 ],\n",
       "       [0.4924225]], dtype=float32)"
      ]
     },
     "execution_count": 30,
     "metadata": {},
     "output_type": "execute_result"
    }
   ],
   "source": [
    "predictions = model_optimized.predict(X_test_scaled)\n",
    "predictions"
   ]
  },
  {
   "cell_type": "code",
   "execution_count": 31,
   "id": "1d6ebde4-5310-46f2-907f-f941ee436f08",
   "metadata": {},
   "outputs": [
    {
     "name": "stdout",
     "output_type": "stream",
     "text": [
      "[1, 1, 1, 1, 1, 0, 1, 0, 1, 1, 1, 0, 0, 1, 1, 0, 0, 1, 0, 1]\n"
     ]
    }
   ],
   "source": [
    "prediction_classes = [1 if prob > 0.5 else 0 for prob in np.ravel(predictions)]\n",
    "print(prediction_classes[:20])"
   ]
  },
  {
   "cell_type": "code",
   "execution_count": 34,
   "id": "09bb46d9-e89f-4bde-8043-f9b4d3064a88",
   "metadata": {},
   "outputs": [
    {
     "name": "stdout",
     "output_type": "stream",
     "text": [
      "Accuracy on the test set: 0.79\n",
      "\n",
      "Confusion matrix:\n",
      "[[348 134]\n",
      " [135 676]]\n"
     ]
    }
   ],
   "source": [
    "from sklearn.metrics import confusion_matrix\n",
    "from sklearn.metrics import accuracy_score\n",
    "\n",
    "print(f'Accuracy on the test set: {accuracy_score(y_test, prediction_classes):.2f}')\n",
    "print()\n",
    "print('Confusion matrix:')\n",
    "print(confusion_matrix(y_test, prediction_classes))"
   ]
  },
  {
   "cell_type": "markdown",
   "id": "1fff8daf-7dcb-46a0-be3b-15e06973dad0",
   "metadata": {},
   "source": [
    "- The accuracy on the test set increased by 3% compared to the default learning rate (0.001) used in the previous notebook"
   ]
  }
 ],
 "metadata": {
  "kernelspec": {
   "display_name": "Python 3.9.7 64-bit ('env_tensorflow': conda)",
   "language": "python",
   "name": "python397jvsc74a57bd02525e10832b7ba92743f6be5b80dfb53422b22d81bf31403f095ad9684056cbf"
  },
  "language_info": {
   "codemirror_mode": {
    "name": "ipython",
    "version": 3
   },
   "file_extension": ".py",
   "mimetype": "text/x-python",
   "name": "python",
   "nbconvert_exporter": "python",
   "pygments_lexer": "ipython3",
   "version": "3.9.7"
  }
 },
 "nbformat": 4,
 "nbformat_minor": 5
}
